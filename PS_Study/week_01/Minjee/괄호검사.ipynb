{
  "nbformat": 4,
  "nbformat_minor": 0,
  "metadata": {
    "kernelspec": {
      "display_name": "Python 3",
      "language": "python",
      "name": "python3"
    },
    "language_info": {
      "codemirror_mode": {
        "name": "ipython",
        "version": 3
      },
      "file_extension": ".py",
      "mimetype": "text/x-python",
      "name": "python",
      "nbconvert_exporter": "python",
      "pygments_lexer": "ipython3",
      "version": "3.7.3"
    },
    "colab": {
      "name": "괄호검사.ipynb",
      "provenance": []
    }
  },
  "cells": [
    {
      "cell_type": "code",
      "metadata": {
        "id": "8wwclFjTRuot"
      },
      "source": [
        "def check_bracket(text): \n",
        "    stack = [] \n",
        "    for idx, letter in enumerate(text): \n",
        "        if letter == '(': \n",
        "            stack.append(idx) \n",
        "        elif letter == ')': \n",
        "            if stack: \n",
        "                stack.pop() \n",
        "            else: \n",
        "                stack.append(idx) \n",
        "    return stack \n"
      ],
      "execution_count": null,
      "outputs": []
    },
    {
      "cell_type": "code",
      "metadata": {
        "id": "8XixEbB9Ruoz",
        "outputId": "2acd761f-7b5d-4a45-af7c-1844924d8910"
      },
      "source": [
        "print(check_bracket('2.4 + 23/12 + (3.141592 * .21))'))"
      ],
      "execution_count": null,
      "outputs": [
        {
          "output_type": "stream",
          "text": [
            "[30]\n"
          ],
          "name": "stdout"
        }
      ]
    },
    {
      "cell_type": "code",
      "metadata": {
        "id": "-B8nELOYRuo0"
      },
      "source": [
        "class Stack:\n",
        "    def __init__(self):\n",
        "        self.data = []\n",
        "    def push(self, data):\n",
        "        self.data.append(data)\n",
        "    def pop(self):\n",
        "        return self.data.pop()\n",
        "    def length(self):\n",
        "        return len(self.data)\n",
        "    def empty(self):\n",
        "        if len(self.data):\n",
        "            return False\n",
        "        return True\n",
        " \n",
        "t_dict = {'}' : '{' , ')' : '('}\n",
        " \n",
        "def check(test):\n",
        "    for a in test:\n",
        "        if a == '(' or a == '{':\n",
        "            stack.push(a)\n",
        "        elif a == ')' or a == '}' :\n",
        "            if stack.empty() or t_dict[a] != stack.pop():\n",
        "                return 0\n",
        "    if stack.empty():  \n",
        "        return 1\n",
        "    else:  \n",
        "        return 0"
      ],
      "execution_count": 1,
      "outputs": []
    },
    {
      "cell_type": "code",
      "metadata": {
        "id": "sQkZi-QARuo0",
        "outputId": "e8d4164b-4b10-4117-c979-dd5214ed61cd",
        "colab": {
          "base_uri": "https://localhost:8080/"
        }
      },
      "source": [
        "T = int(input())\n",
        "for t in range(1, T+1):\n",
        "    stack = Stack()\n",
        "    print(f'#{t}, {check(input())}')"
      ],
      "execution_count": 4,
      "outputs": [
        {
          "output_type": "stream",
          "text": [
            "1\n",
            "{{()(){}}}\n",
            "#1, 1\n"
          ],
          "name": "stdout"
        }
      ]
    },
    {
      "cell_type": "code",
      "metadata": {
        "id": "xzegZ9xcR8dH"
      },
      "source": [
        ""
      ],
      "execution_count": null,
      "outputs": []
    }
  ]
}